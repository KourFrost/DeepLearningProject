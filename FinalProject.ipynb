{
  "nbformat": 4,
  "nbformat_minor": 0,
  "metadata": {
    "colab": {
      "name": "FinalProject.ipynb",
      "provenance": [],
      "collapsed_sections": []
    },
    "kernelspec": {
      "name": "python3",
      "display_name": "Python 3"
    },
    "language_info": {
      "name": "python"
    },
    "accelerator": "GPU",
    "widgets": {
      "application/vnd.jupyter.widget-state+json": {
        "d43585a55ab14a639be678edfd3248d1": {
          "model_module": "@jupyter-widgets/controls",
          "model_name": "HBoxModel",
          "model_module_version": "1.5.0",
          "state": {
            "_dom_classes": [],
            "_model_module": "@jupyter-widgets/controls",
            "_model_module_version": "1.5.0",
            "_model_name": "HBoxModel",
            "_view_count": null,
            "_view_module": "@jupyter-widgets/controls",
            "_view_module_version": "1.5.0",
            "_view_name": "HBoxView",
            "box_style": "",
            "children": [
              "IPY_MODEL_4c8dd6b4248c4cca95ffd73e68e25b09",
              "IPY_MODEL_daa636dff4fe4cf2923d972255e0ea7d",
              "IPY_MODEL_5ae40de65524481cb1ec3cd30e548332"
            ],
            "layout": "IPY_MODEL_3a87896be0bc4ba19d704c26ca23f461"
          }
        },
        "4c8dd6b4248c4cca95ffd73e68e25b09": {
          "model_module": "@jupyter-widgets/controls",
          "model_name": "HTMLModel",
          "model_module_version": "1.5.0",
          "state": {
            "_dom_classes": [],
            "_model_module": "@jupyter-widgets/controls",
            "_model_module_version": "1.5.0",
            "_model_name": "HTMLModel",
            "_view_count": null,
            "_view_module": "@jupyter-widgets/controls",
            "_view_module_version": "1.5.0",
            "_view_name": "HTMLView",
            "description": "",
            "description_tooltip": null,
            "layout": "IPY_MODEL_8284d3d2540e427384082620b0721267",
            "placeholder": "​",
            "style": "IPY_MODEL_2a3a01b47a7b46fd80d119ab876ffd75",
            "value": ""
          }
        },
        "daa636dff4fe4cf2923d972255e0ea7d": {
          "model_module": "@jupyter-widgets/controls",
          "model_name": "FloatProgressModel",
          "model_module_version": "1.5.0",
          "state": {
            "_dom_classes": [],
            "_model_module": "@jupyter-widgets/controls",
            "_model_module_version": "1.5.0",
            "_model_name": "FloatProgressModel",
            "_view_count": null,
            "_view_module": "@jupyter-widgets/controls",
            "_view_module_version": "1.5.0",
            "_view_name": "ProgressView",
            "bar_style": "success",
            "description": "",
            "description_tooltip": null,
            "layout": "IPY_MODEL_9cba225880124a48a5bfc18daa9416e4",
            "max": 9912422,
            "min": 0,
            "orientation": "horizontal",
            "style": "IPY_MODEL_0a072f8a8cbe4e579245b7de038ac373",
            "value": 9912422
          }
        },
        "5ae40de65524481cb1ec3cd30e548332": {
          "model_module": "@jupyter-widgets/controls",
          "model_name": "HTMLModel",
          "model_module_version": "1.5.0",
          "state": {
            "_dom_classes": [],
            "_model_module": "@jupyter-widgets/controls",
            "_model_module_version": "1.5.0",
            "_model_name": "HTMLModel",
            "_view_count": null,
            "_view_module": "@jupyter-widgets/controls",
            "_view_module_version": "1.5.0",
            "_view_name": "HTMLView",
            "description": "",
            "description_tooltip": null,
            "layout": "IPY_MODEL_fa6ad861442249f5b6df8f1251464e84",
            "placeholder": "​",
            "style": "IPY_MODEL_c9ab3774716b4f579e1417405aa05add",
            "value": " 9913344/? [00:00&lt;00:00, 17467814.16it/s]"
          }
        },
        "3a87896be0bc4ba19d704c26ca23f461": {
          "model_module": "@jupyter-widgets/base",
          "model_name": "LayoutModel",
          "model_module_version": "1.2.0",
          "state": {
            "_model_module": "@jupyter-widgets/base",
            "_model_module_version": "1.2.0",
            "_model_name": "LayoutModel",
            "_view_count": null,
            "_view_module": "@jupyter-widgets/base",
            "_view_module_version": "1.2.0",
            "_view_name": "LayoutView",
            "align_content": null,
            "align_items": null,
            "align_self": null,
            "border": null,
            "bottom": null,
            "display": null,
            "flex": null,
            "flex_flow": null,
            "grid_area": null,
            "grid_auto_columns": null,
            "grid_auto_flow": null,
            "grid_auto_rows": null,
            "grid_column": null,
            "grid_gap": null,
            "grid_row": null,
            "grid_template_areas": null,
            "grid_template_columns": null,
            "grid_template_rows": null,
            "height": null,
            "justify_content": null,
            "justify_items": null,
            "left": null,
            "margin": null,
            "max_height": null,
            "max_width": null,
            "min_height": null,
            "min_width": null,
            "object_fit": null,
            "object_position": null,
            "order": null,
            "overflow": null,
            "overflow_x": null,
            "overflow_y": null,
            "padding": null,
            "right": null,
            "top": null,
            "visibility": null,
            "width": null
          }
        },
        "8284d3d2540e427384082620b0721267": {
          "model_module": "@jupyter-widgets/base",
          "model_name": "LayoutModel",
          "model_module_version": "1.2.0",
          "state": {
            "_model_module": "@jupyter-widgets/base",
            "_model_module_version": "1.2.0",
            "_model_name": "LayoutModel",
            "_view_count": null,
            "_view_module": "@jupyter-widgets/base",
            "_view_module_version": "1.2.0",
            "_view_name": "LayoutView",
            "align_content": null,
            "align_items": null,
            "align_self": null,
            "border": null,
            "bottom": null,
            "display": null,
            "flex": null,
            "flex_flow": null,
            "grid_area": null,
            "grid_auto_columns": null,
            "grid_auto_flow": null,
            "grid_auto_rows": null,
            "grid_column": null,
            "grid_gap": null,
            "grid_row": null,
            "grid_template_areas": null,
            "grid_template_columns": null,
            "grid_template_rows": null,
            "height": null,
            "justify_content": null,
            "justify_items": null,
            "left": null,
            "margin": null,
            "max_height": null,
            "max_width": null,
            "min_height": null,
            "min_width": null,
            "object_fit": null,
            "object_position": null,
            "order": null,
            "overflow": null,
            "overflow_x": null,
            "overflow_y": null,
            "padding": null,
            "right": null,
            "top": null,
            "visibility": null,
            "width": null
          }
        },
        "2a3a01b47a7b46fd80d119ab876ffd75": {
          "model_module": "@jupyter-widgets/controls",
          "model_name": "DescriptionStyleModel",
          "model_module_version": "1.5.0",
          "state": {
            "_model_module": "@jupyter-widgets/controls",
            "_model_module_version": "1.5.0",
            "_model_name": "DescriptionStyleModel",
            "_view_count": null,
            "_view_module": "@jupyter-widgets/base",
            "_view_module_version": "1.2.0",
            "_view_name": "StyleView",
            "description_width": ""
          }
        },
        "9cba225880124a48a5bfc18daa9416e4": {
          "model_module": "@jupyter-widgets/base",
          "model_name": "LayoutModel",
          "model_module_version": "1.2.0",
          "state": {
            "_model_module": "@jupyter-widgets/base",
            "_model_module_version": "1.2.0",
            "_model_name": "LayoutModel",
            "_view_count": null,
            "_view_module": "@jupyter-widgets/base",
            "_view_module_version": "1.2.0",
            "_view_name": "LayoutView",
            "align_content": null,
            "align_items": null,
            "align_self": null,
            "border": null,
            "bottom": null,
            "display": null,
            "flex": null,
            "flex_flow": null,
            "grid_area": null,
            "grid_auto_columns": null,
            "grid_auto_flow": null,
            "grid_auto_rows": null,
            "grid_column": null,
            "grid_gap": null,
            "grid_row": null,
            "grid_template_areas": null,
            "grid_template_columns": null,
            "grid_template_rows": null,
            "height": null,
            "justify_content": null,
            "justify_items": null,
            "left": null,
            "margin": null,
            "max_height": null,
            "max_width": null,
            "min_height": null,
            "min_width": null,
            "object_fit": null,
            "object_position": null,
            "order": null,
            "overflow": null,
            "overflow_x": null,
            "overflow_y": null,
            "padding": null,
            "right": null,
            "top": null,
            "visibility": null,
            "width": null
          }
        },
        "0a072f8a8cbe4e579245b7de038ac373": {
          "model_module": "@jupyter-widgets/controls",
          "model_name": "ProgressStyleModel",
          "model_module_version": "1.5.0",
          "state": {
            "_model_module": "@jupyter-widgets/controls",
            "_model_module_version": "1.5.0",
            "_model_name": "ProgressStyleModel",
            "_view_count": null,
            "_view_module": "@jupyter-widgets/base",
            "_view_module_version": "1.2.0",
            "_view_name": "StyleView",
            "bar_color": null,
            "description_width": ""
          }
        },
        "fa6ad861442249f5b6df8f1251464e84": {
          "model_module": "@jupyter-widgets/base",
          "model_name": "LayoutModel",
          "model_module_version": "1.2.0",
          "state": {
            "_model_module": "@jupyter-widgets/base",
            "_model_module_version": "1.2.0",
            "_model_name": "LayoutModel",
            "_view_count": null,
            "_view_module": "@jupyter-widgets/base",
            "_view_module_version": "1.2.0",
            "_view_name": "LayoutView",
            "align_content": null,
            "align_items": null,
            "align_self": null,
            "border": null,
            "bottom": null,
            "display": null,
            "flex": null,
            "flex_flow": null,
            "grid_area": null,
            "grid_auto_columns": null,
            "grid_auto_flow": null,
            "grid_auto_rows": null,
            "grid_column": null,
            "grid_gap": null,
            "grid_row": null,
            "grid_template_areas": null,
            "grid_template_columns": null,
            "grid_template_rows": null,
            "height": null,
            "justify_content": null,
            "justify_items": null,
            "left": null,
            "margin": null,
            "max_height": null,
            "max_width": null,
            "min_height": null,
            "min_width": null,
            "object_fit": null,
            "object_position": null,
            "order": null,
            "overflow": null,
            "overflow_x": null,
            "overflow_y": null,
            "padding": null,
            "right": null,
            "top": null,
            "visibility": null,
            "width": null
          }
        },
        "c9ab3774716b4f579e1417405aa05add": {
          "model_module": "@jupyter-widgets/controls",
          "model_name": "DescriptionStyleModel",
          "model_module_version": "1.5.0",
          "state": {
            "_model_module": "@jupyter-widgets/controls",
            "_model_module_version": "1.5.0",
            "_model_name": "DescriptionStyleModel",
            "_view_count": null,
            "_view_module": "@jupyter-widgets/base",
            "_view_module_version": "1.2.0",
            "_view_name": "StyleView",
            "description_width": ""
          }
        },
        "fcbf4e4a4f584a799aab48b2f7db63aa": {
          "model_module": "@jupyter-widgets/controls",
          "model_name": "HBoxModel",
          "model_module_version": "1.5.0",
          "state": {
            "_dom_classes": [],
            "_model_module": "@jupyter-widgets/controls",
            "_model_module_version": "1.5.0",
            "_model_name": "HBoxModel",
            "_view_count": null,
            "_view_module": "@jupyter-widgets/controls",
            "_view_module_version": "1.5.0",
            "_view_name": "HBoxView",
            "box_style": "",
            "children": [
              "IPY_MODEL_0210500c014146d6ba5021b66578840a",
              "IPY_MODEL_b2d6189e515c4ed9b116fd993137b517",
              "IPY_MODEL_98bd4ee7e1884a93aedb7ddd2d057a86"
            ],
            "layout": "IPY_MODEL_40b9bd52877e40009d8b9837876fe162"
          }
        },
        "0210500c014146d6ba5021b66578840a": {
          "model_module": "@jupyter-widgets/controls",
          "model_name": "HTMLModel",
          "model_module_version": "1.5.0",
          "state": {
            "_dom_classes": [],
            "_model_module": "@jupyter-widgets/controls",
            "_model_module_version": "1.5.0",
            "_model_name": "HTMLModel",
            "_view_count": null,
            "_view_module": "@jupyter-widgets/controls",
            "_view_module_version": "1.5.0",
            "_view_name": "HTMLView",
            "description": "",
            "description_tooltip": null,
            "layout": "IPY_MODEL_b852cbc358ac4d3595e00be23d7ddf45",
            "placeholder": "​",
            "style": "IPY_MODEL_26df2c17c7734fc0bc64abb63626a83f",
            "value": ""
          }
        },
        "b2d6189e515c4ed9b116fd993137b517": {
          "model_module": "@jupyter-widgets/controls",
          "model_name": "FloatProgressModel",
          "model_module_version": "1.5.0",
          "state": {
            "_dom_classes": [],
            "_model_module": "@jupyter-widgets/controls",
            "_model_module_version": "1.5.0",
            "_model_name": "FloatProgressModel",
            "_view_count": null,
            "_view_module": "@jupyter-widgets/controls",
            "_view_module_version": "1.5.0",
            "_view_name": "ProgressView",
            "bar_style": "success",
            "description": "",
            "description_tooltip": null,
            "layout": "IPY_MODEL_946575182996473ca76324967b186434",
            "max": 28881,
            "min": 0,
            "orientation": "horizontal",
            "style": "IPY_MODEL_c7f95aa2512b4e12963288c5cd2fa34c",
            "value": 28881
          }
        },
        "98bd4ee7e1884a93aedb7ddd2d057a86": {
          "model_module": "@jupyter-widgets/controls",
          "model_name": "HTMLModel",
          "model_module_version": "1.5.0",
          "state": {
            "_dom_classes": [],
            "_model_module": "@jupyter-widgets/controls",
            "_model_module_version": "1.5.0",
            "_model_name": "HTMLModel",
            "_view_count": null,
            "_view_module": "@jupyter-widgets/controls",
            "_view_module_version": "1.5.0",
            "_view_name": "HTMLView",
            "description": "",
            "description_tooltip": null,
            "layout": "IPY_MODEL_49eabe56fa56427988eb78d3c37737de",
            "placeholder": "​",
            "style": "IPY_MODEL_1dc34b5b0a664de9807065ea8668ae43",
            "value": " 29696/? [00:00&lt;00:00, 950612.87it/s]"
          }
        },
        "40b9bd52877e40009d8b9837876fe162": {
          "model_module": "@jupyter-widgets/base",
          "model_name": "LayoutModel",
          "model_module_version": "1.2.0",
          "state": {
            "_model_module": "@jupyter-widgets/base",
            "_model_module_version": "1.2.0",
            "_model_name": "LayoutModel",
            "_view_count": null,
            "_view_module": "@jupyter-widgets/base",
            "_view_module_version": "1.2.0",
            "_view_name": "LayoutView",
            "align_content": null,
            "align_items": null,
            "align_self": null,
            "border": null,
            "bottom": null,
            "display": null,
            "flex": null,
            "flex_flow": null,
            "grid_area": null,
            "grid_auto_columns": null,
            "grid_auto_flow": null,
            "grid_auto_rows": null,
            "grid_column": null,
            "grid_gap": null,
            "grid_row": null,
            "grid_template_areas": null,
            "grid_template_columns": null,
            "grid_template_rows": null,
            "height": null,
            "justify_content": null,
            "justify_items": null,
            "left": null,
            "margin": null,
            "max_height": null,
            "max_width": null,
            "min_height": null,
            "min_width": null,
            "object_fit": null,
            "object_position": null,
            "order": null,
            "overflow": null,
            "overflow_x": null,
            "overflow_y": null,
            "padding": null,
            "right": null,
            "top": null,
            "visibility": null,
            "width": null
          }
        },
        "b852cbc358ac4d3595e00be23d7ddf45": {
          "model_module": "@jupyter-widgets/base",
          "model_name": "LayoutModel",
          "model_module_version": "1.2.0",
          "state": {
            "_model_module": "@jupyter-widgets/base",
            "_model_module_version": "1.2.0",
            "_model_name": "LayoutModel",
            "_view_count": null,
            "_view_module": "@jupyter-widgets/base",
            "_view_module_version": "1.2.0",
            "_view_name": "LayoutView",
            "align_content": null,
            "align_items": null,
            "align_self": null,
            "border": null,
            "bottom": null,
            "display": null,
            "flex": null,
            "flex_flow": null,
            "grid_area": null,
            "grid_auto_columns": null,
            "grid_auto_flow": null,
            "grid_auto_rows": null,
            "grid_column": null,
            "grid_gap": null,
            "grid_row": null,
            "grid_template_areas": null,
            "grid_template_columns": null,
            "grid_template_rows": null,
            "height": null,
            "justify_content": null,
            "justify_items": null,
            "left": null,
            "margin": null,
            "max_height": null,
            "max_width": null,
            "min_height": null,
            "min_width": null,
            "object_fit": null,
            "object_position": null,
            "order": null,
            "overflow": null,
            "overflow_x": null,
            "overflow_y": null,
            "padding": null,
            "right": null,
            "top": null,
            "visibility": null,
            "width": null
          }
        },
        "26df2c17c7734fc0bc64abb63626a83f": {
          "model_module": "@jupyter-widgets/controls",
          "model_name": "DescriptionStyleModel",
          "model_module_version": "1.5.0",
          "state": {
            "_model_module": "@jupyter-widgets/controls",
            "_model_module_version": "1.5.0",
            "_model_name": "DescriptionStyleModel",
            "_view_count": null,
            "_view_module": "@jupyter-widgets/base",
            "_view_module_version": "1.2.0",
            "_view_name": "StyleView",
            "description_width": ""
          }
        },
        "946575182996473ca76324967b186434": {
          "model_module": "@jupyter-widgets/base",
          "model_name": "LayoutModel",
          "model_module_version": "1.2.0",
          "state": {
            "_model_module": "@jupyter-widgets/base",
            "_model_module_version": "1.2.0",
            "_model_name": "LayoutModel",
            "_view_count": null,
            "_view_module": "@jupyter-widgets/base",
            "_view_module_version": "1.2.0",
            "_view_name": "LayoutView",
            "align_content": null,
            "align_items": null,
            "align_self": null,
            "border": null,
            "bottom": null,
            "display": null,
            "flex": null,
            "flex_flow": null,
            "grid_area": null,
            "grid_auto_columns": null,
            "grid_auto_flow": null,
            "grid_auto_rows": null,
            "grid_column": null,
            "grid_gap": null,
            "grid_row": null,
            "grid_template_areas": null,
            "grid_template_columns": null,
            "grid_template_rows": null,
            "height": null,
            "justify_content": null,
            "justify_items": null,
            "left": null,
            "margin": null,
            "max_height": null,
            "max_width": null,
            "min_height": null,
            "min_width": null,
            "object_fit": null,
            "object_position": null,
            "order": null,
            "overflow": null,
            "overflow_x": null,
            "overflow_y": null,
            "padding": null,
            "right": null,
            "top": null,
            "visibility": null,
            "width": null
          }
        },
        "c7f95aa2512b4e12963288c5cd2fa34c": {
          "model_module": "@jupyter-widgets/controls",
          "model_name": "ProgressStyleModel",
          "model_module_version": "1.5.0",
          "state": {
            "_model_module": "@jupyter-widgets/controls",
            "_model_module_version": "1.5.0",
            "_model_name": "ProgressStyleModel",
            "_view_count": null,
            "_view_module": "@jupyter-widgets/base",
            "_view_module_version": "1.2.0",
            "_view_name": "StyleView",
            "bar_color": null,
            "description_width": ""
          }
        },
        "49eabe56fa56427988eb78d3c37737de": {
          "model_module": "@jupyter-widgets/base",
          "model_name": "LayoutModel",
          "model_module_version": "1.2.0",
          "state": {
            "_model_module": "@jupyter-widgets/base",
            "_model_module_version": "1.2.0",
            "_model_name": "LayoutModel",
            "_view_count": null,
            "_view_module": "@jupyter-widgets/base",
            "_view_module_version": "1.2.0",
            "_view_name": "LayoutView",
            "align_content": null,
            "align_items": null,
            "align_self": null,
            "border": null,
            "bottom": null,
            "display": null,
            "flex": null,
            "flex_flow": null,
            "grid_area": null,
            "grid_auto_columns": null,
            "grid_auto_flow": null,
            "grid_auto_rows": null,
            "grid_column": null,
            "grid_gap": null,
            "grid_row": null,
            "grid_template_areas": null,
            "grid_template_columns": null,
            "grid_template_rows": null,
            "height": null,
            "justify_content": null,
            "justify_items": null,
            "left": null,
            "margin": null,
            "max_height": null,
            "max_width": null,
            "min_height": null,
            "min_width": null,
            "object_fit": null,
            "object_position": null,
            "order": null,
            "overflow": null,
            "overflow_x": null,
            "overflow_y": null,
            "padding": null,
            "right": null,
            "top": null,
            "visibility": null,
            "width": null
          }
        },
        "1dc34b5b0a664de9807065ea8668ae43": {
          "model_module": "@jupyter-widgets/controls",
          "model_name": "DescriptionStyleModel",
          "model_module_version": "1.5.0",
          "state": {
            "_model_module": "@jupyter-widgets/controls",
            "_model_module_version": "1.5.0",
            "_model_name": "DescriptionStyleModel",
            "_view_count": null,
            "_view_module": "@jupyter-widgets/base",
            "_view_module_version": "1.2.0",
            "_view_name": "StyleView",
            "description_width": ""
          }
        },
        "2790a5a0d48443abba6874074abe7342": {
          "model_module": "@jupyter-widgets/controls",
          "model_name": "HBoxModel",
          "model_module_version": "1.5.0",
          "state": {
            "_dom_classes": [],
            "_model_module": "@jupyter-widgets/controls",
            "_model_module_version": "1.5.0",
            "_model_name": "HBoxModel",
            "_view_count": null,
            "_view_module": "@jupyter-widgets/controls",
            "_view_module_version": "1.5.0",
            "_view_name": "HBoxView",
            "box_style": "",
            "children": [
              "IPY_MODEL_d8d7603f4da6465e943f1671cef75584",
              "IPY_MODEL_53668299367641f9b5a3ee71cb2d2248",
              "IPY_MODEL_860e745e75fe4f628f7f173d0f8276ef"
            ],
            "layout": "IPY_MODEL_512ce9c6dc0346509c7d2ebf6f80ebf4"
          }
        },
        "d8d7603f4da6465e943f1671cef75584": {
          "model_module": "@jupyter-widgets/controls",
          "model_name": "HTMLModel",
          "model_module_version": "1.5.0",
          "state": {
            "_dom_classes": [],
            "_model_module": "@jupyter-widgets/controls",
            "_model_module_version": "1.5.0",
            "_model_name": "HTMLModel",
            "_view_count": null,
            "_view_module": "@jupyter-widgets/controls",
            "_view_module_version": "1.5.0",
            "_view_name": "HTMLView",
            "description": "",
            "description_tooltip": null,
            "layout": "IPY_MODEL_461418f857624acd85e27133d16990ea",
            "placeholder": "​",
            "style": "IPY_MODEL_fbf334b5cdee4a62a3e63503922ec6cd",
            "value": ""
          }
        },
        "53668299367641f9b5a3ee71cb2d2248": {
          "model_module": "@jupyter-widgets/controls",
          "model_name": "FloatProgressModel",
          "model_module_version": "1.5.0",
          "state": {
            "_dom_classes": [],
            "_model_module": "@jupyter-widgets/controls",
            "_model_module_version": "1.5.0",
            "_model_name": "FloatProgressModel",
            "_view_count": null,
            "_view_module": "@jupyter-widgets/controls",
            "_view_module_version": "1.5.0",
            "_view_name": "ProgressView",
            "bar_style": "success",
            "description": "",
            "description_tooltip": null,
            "layout": "IPY_MODEL_054379926f9448a58c0686abf322f539",
            "max": 1648877,
            "min": 0,
            "orientation": "horizontal",
            "style": "IPY_MODEL_6640944034a041798cc1b585b49485a2",
            "value": 1648877
          }
        },
        "860e745e75fe4f628f7f173d0f8276ef": {
          "model_module": "@jupyter-widgets/controls",
          "model_name": "HTMLModel",
          "model_module_version": "1.5.0",
          "state": {
            "_dom_classes": [],
            "_model_module": "@jupyter-widgets/controls",
            "_model_module_version": "1.5.0",
            "_model_name": "HTMLModel",
            "_view_count": null,
            "_view_module": "@jupyter-widgets/controls",
            "_view_module_version": "1.5.0",
            "_view_name": "HTMLView",
            "description": "",
            "description_tooltip": null,
            "layout": "IPY_MODEL_69cbf4a57ccd49929d74bc30c8a4afbd",
            "placeholder": "​",
            "style": "IPY_MODEL_3d4eac4b67804bd19129b10012e72a7b",
            "value": " 1649664/? [00:00&lt;00:00, 4070287.43it/s]"
          }
        },
        "512ce9c6dc0346509c7d2ebf6f80ebf4": {
          "model_module": "@jupyter-widgets/base",
          "model_name": "LayoutModel",
          "model_module_version": "1.2.0",
          "state": {
            "_model_module": "@jupyter-widgets/base",
            "_model_module_version": "1.2.0",
            "_model_name": "LayoutModel",
            "_view_count": null,
            "_view_module": "@jupyter-widgets/base",
            "_view_module_version": "1.2.0",
            "_view_name": "LayoutView",
            "align_content": null,
            "align_items": null,
            "align_self": null,
            "border": null,
            "bottom": null,
            "display": null,
            "flex": null,
            "flex_flow": null,
            "grid_area": null,
            "grid_auto_columns": null,
            "grid_auto_flow": null,
            "grid_auto_rows": null,
            "grid_column": null,
            "grid_gap": null,
            "grid_row": null,
            "grid_template_areas": null,
            "grid_template_columns": null,
            "grid_template_rows": null,
            "height": null,
            "justify_content": null,
            "justify_items": null,
            "left": null,
            "margin": null,
            "max_height": null,
            "max_width": null,
            "min_height": null,
            "min_width": null,
            "object_fit": null,
            "object_position": null,
            "order": null,
            "overflow": null,
            "overflow_x": null,
            "overflow_y": null,
            "padding": null,
            "right": null,
            "top": null,
            "visibility": null,
            "width": null
          }
        },
        "461418f857624acd85e27133d16990ea": {
          "model_module": "@jupyter-widgets/base",
          "model_name": "LayoutModel",
          "model_module_version": "1.2.0",
          "state": {
            "_model_module": "@jupyter-widgets/base",
            "_model_module_version": "1.2.0",
            "_model_name": "LayoutModel",
            "_view_count": null,
            "_view_module": "@jupyter-widgets/base",
            "_view_module_version": "1.2.0",
            "_view_name": "LayoutView",
            "align_content": null,
            "align_items": null,
            "align_self": null,
            "border": null,
            "bottom": null,
            "display": null,
            "flex": null,
            "flex_flow": null,
            "grid_area": null,
            "grid_auto_columns": null,
            "grid_auto_flow": null,
            "grid_auto_rows": null,
            "grid_column": null,
            "grid_gap": null,
            "grid_row": null,
            "grid_template_areas": null,
            "grid_template_columns": null,
            "grid_template_rows": null,
            "height": null,
            "justify_content": null,
            "justify_items": null,
            "left": null,
            "margin": null,
            "max_height": null,
            "max_width": null,
            "min_height": null,
            "min_width": null,
            "object_fit": null,
            "object_position": null,
            "order": null,
            "overflow": null,
            "overflow_x": null,
            "overflow_y": null,
            "padding": null,
            "right": null,
            "top": null,
            "visibility": null,
            "width": null
          }
        },
        "fbf334b5cdee4a62a3e63503922ec6cd": {
          "model_module": "@jupyter-widgets/controls",
          "model_name": "DescriptionStyleModel",
          "model_module_version": "1.5.0",
          "state": {
            "_model_module": "@jupyter-widgets/controls",
            "_model_module_version": "1.5.0",
            "_model_name": "DescriptionStyleModel",
            "_view_count": null,
            "_view_module": "@jupyter-widgets/base",
            "_view_module_version": "1.2.0",
            "_view_name": "StyleView",
            "description_width": ""
          }
        },
        "054379926f9448a58c0686abf322f539": {
          "model_module": "@jupyter-widgets/base",
          "model_name": "LayoutModel",
          "model_module_version": "1.2.0",
          "state": {
            "_model_module": "@jupyter-widgets/base",
            "_model_module_version": "1.2.0",
            "_model_name": "LayoutModel",
            "_view_count": null,
            "_view_module": "@jupyter-widgets/base",
            "_view_module_version": "1.2.0",
            "_view_name": "LayoutView",
            "align_content": null,
            "align_items": null,
            "align_self": null,
            "border": null,
            "bottom": null,
            "display": null,
            "flex": null,
            "flex_flow": null,
            "grid_area": null,
            "grid_auto_columns": null,
            "grid_auto_flow": null,
            "grid_auto_rows": null,
            "grid_column": null,
            "grid_gap": null,
            "grid_row": null,
            "grid_template_areas": null,
            "grid_template_columns": null,
            "grid_template_rows": null,
            "height": null,
            "justify_content": null,
            "justify_items": null,
            "left": null,
            "margin": null,
            "max_height": null,
            "max_width": null,
            "min_height": null,
            "min_width": null,
            "object_fit": null,
            "object_position": null,
            "order": null,
            "overflow": null,
            "overflow_x": null,
            "overflow_y": null,
            "padding": null,
            "right": null,
            "top": null,
            "visibility": null,
            "width": null
          }
        },
        "6640944034a041798cc1b585b49485a2": {
          "model_module": "@jupyter-widgets/controls",
          "model_name": "ProgressStyleModel",
          "model_module_version": "1.5.0",
          "state": {
            "_model_module": "@jupyter-widgets/controls",
            "_model_module_version": "1.5.0",
            "_model_name": "ProgressStyleModel",
            "_view_count": null,
            "_view_module": "@jupyter-widgets/base",
            "_view_module_version": "1.2.0",
            "_view_name": "StyleView",
            "bar_color": null,
            "description_width": ""
          }
        },
        "69cbf4a57ccd49929d74bc30c8a4afbd": {
          "model_module": "@jupyter-widgets/base",
          "model_name": "LayoutModel",
          "model_module_version": "1.2.0",
          "state": {
            "_model_module": "@jupyter-widgets/base",
            "_model_module_version": "1.2.0",
            "_model_name": "LayoutModel",
            "_view_count": null,
            "_view_module": "@jupyter-widgets/base",
            "_view_module_version": "1.2.0",
            "_view_name": "LayoutView",
            "align_content": null,
            "align_items": null,
            "align_self": null,
            "border": null,
            "bottom": null,
            "display": null,
            "flex": null,
            "flex_flow": null,
            "grid_area": null,
            "grid_auto_columns": null,
            "grid_auto_flow": null,
            "grid_auto_rows": null,
            "grid_column": null,
            "grid_gap": null,
            "grid_row": null,
            "grid_template_areas": null,
            "grid_template_columns": null,
            "grid_template_rows": null,
            "height": null,
            "justify_content": null,
            "justify_items": null,
            "left": null,
            "margin": null,
            "max_height": null,
            "max_width": null,
            "min_height": null,
            "min_width": null,
            "object_fit": null,
            "object_position": null,
            "order": null,
            "overflow": null,
            "overflow_x": null,
            "overflow_y": null,
            "padding": null,
            "right": null,
            "top": null,
            "visibility": null,
            "width": null
          }
        },
        "3d4eac4b67804bd19129b10012e72a7b": {
          "model_module": "@jupyter-widgets/controls",
          "model_name": "DescriptionStyleModel",
          "model_module_version": "1.5.0",
          "state": {
            "_model_module": "@jupyter-widgets/controls",
            "_model_module_version": "1.5.0",
            "_model_name": "DescriptionStyleModel",
            "_view_count": null,
            "_view_module": "@jupyter-widgets/base",
            "_view_module_version": "1.2.0",
            "_view_name": "StyleView",
            "description_width": ""
          }
        },
        "5576bc48b4c5423e80f28de553402e76": {
          "model_module": "@jupyter-widgets/controls",
          "model_name": "HBoxModel",
          "model_module_version": "1.5.0",
          "state": {
            "_dom_classes": [],
            "_model_module": "@jupyter-widgets/controls",
            "_model_module_version": "1.5.0",
            "_model_name": "HBoxModel",
            "_view_count": null,
            "_view_module": "@jupyter-widgets/controls",
            "_view_module_version": "1.5.0",
            "_view_name": "HBoxView",
            "box_style": "",
            "children": [
              "IPY_MODEL_d3b43791fc2c4253ba627772e95d3c74",
              "IPY_MODEL_6122dbe936764405af88aec4c3f786bf",
              "IPY_MODEL_b41e8b56068a4f3e99731a9cc3e32730"
            ],
            "layout": "IPY_MODEL_5e254646f0f346c08af9400add026c49"
          }
        },
        "d3b43791fc2c4253ba627772e95d3c74": {
          "model_module": "@jupyter-widgets/controls",
          "model_name": "HTMLModel",
          "model_module_version": "1.5.0",
          "state": {
            "_dom_classes": [],
            "_model_module": "@jupyter-widgets/controls",
            "_model_module_version": "1.5.0",
            "_model_name": "HTMLModel",
            "_view_count": null,
            "_view_module": "@jupyter-widgets/controls",
            "_view_module_version": "1.5.0",
            "_view_name": "HTMLView",
            "description": "",
            "description_tooltip": null,
            "layout": "IPY_MODEL_66cc8bd4b74640a9b90ae6e6bc85074e",
            "placeholder": "​",
            "style": "IPY_MODEL_d943586f33eb4122b0bbd33273a6874f",
            "value": ""
          }
        },
        "6122dbe936764405af88aec4c3f786bf": {
          "model_module": "@jupyter-widgets/controls",
          "model_name": "FloatProgressModel",
          "model_module_version": "1.5.0",
          "state": {
            "_dom_classes": [],
            "_model_module": "@jupyter-widgets/controls",
            "_model_module_version": "1.5.0",
            "_model_name": "FloatProgressModel",
            "_view_count": null,
            "_view_module": "@jupyter-widgets/controls",
            "_view_module_version": "1.5.0",
            "_view_name": "ProgressView",
            "bar_style": "success",
            "description": "",
            "description_tooltip": null,
            "layout": "IPY_MODEL_9cb5277269ef461b8a8dcaa244de8c4f",
            "max": 4542,
            "min": 0,
            "orientation": "horizontal",
            "style": "IPY_MODEL_e0b53ad7a7e54ef590b20c889181076b",
            "value": 4542
          }
        },
        "b41e8b56068a4f3e99731a9cc3e32730": {
          "model_module": "@jupyter-widgets/controls",
          "model_name": "HTMLModel",
          "model_module_version": "1.5.0",
          "state": {
            "_dom_classes": [],
            "_model_module": "@jupyter-widgets/controls",
            "_model_module_version": "1.5.0",
            "_model_name": "HTMLModel",
            "_view_count": null,
            "_view_module": "@jupyter-widgets/controls",
            "_view_module_version": "1.5.0",
            "_view_name": "HTMLView",
            "description": "",
            "description_tooltip": null,
            "layout": "IPY_MODEL_26005b7511f146629101f131f46d6eb0",
            "placeholder": "​",
            "style": "IPY_MODEL_6afe79c6fccc4674b1ca98041cc57038",
            "value": " 5120/? [00:00&lt;00:00, 164420.80it/s]"
          }
        },
        "5e254646f0f346c08af9400add026c49": {
          "model_module": "@jupyter-widgets/base",
          "model_name": "LayoutModel",
          "model_module_version": "1.2.0",
          "state": {
            "_model_module": "@jupyter-widgets/base",
            "_model_module_version": "1.2.0",
            "_model_name": "LayoutModel",
            "_view_count": null,
            "_view_module": "@jupyter-widgets/base",
            "_view_module_version": "1.2.0",
            "_view_name": "LayoutView",
            "align_content": null,
            "align_items": null,
            "align_self": null,
            "border": null,
            "bottom": null,
            "display": null,
            "flex": null,
            "flex_flow": null,
            "grid_area": null,
            "grid_auto_columns": null,
            "grid_auto_flow": null,
            "grid_auto_rows": null,
            "grid_column": null,
            "grid_gap": null,
            "grid_row": null,
            "grid_template_areas": null,
            "grid_template_columns": null,
            "grid_template_rows": null,
            "height": null,
            "justify_content": null,
            "justify_items": null,
            "left": null,
            "margin": null,
            "max_height": null,
            "max_width": null,
            "min_height": null,
            "min_width": null,
            "object_fit": null,
            "object_position": null,
            "order": null,
            "overflow": null,
            "overflow_x": null,
            "overflow_y": null,
            "padding": null,
            "right": null,
            "top": null,
            "visibility": null,
            "width": null
          }
        },
        "66cc8bd4b74640a9b90ae6e6bc85074e": {
          "model_module": "@jupyter-widgets/base",
          "model_name": "LayoutModel",
          "model_module_version": "1.2.0",
          "state": {
            "_model_module": "@jupyter-widgets/base",
            "_model_module_version": "1.2.0",
            "_model_name": "LayoutModel",
            "_view_count": null,
            "_view_module": "@jupyter-widgets/base",
            "_view_module_version": "1.2.0",
            "_view_name": "LayoutView",
            "align_content": null,
            "align_items": null,
            "align_self": null,
            "border": null,
            "bottom": null,
            "display": null,
            "flex": null,
            "flex_flow": null,
            "grid_area": null,
            "grid_auto_columns": null,
            "grid_auto_flow": null,
            "grid_auto_rows": null,
            "grid_column": null,
            "grid_gap": null,
            "grid_row": null,
            "grid_template_areas": null,
            "grid_template_columns": null,
            "grid_template_rows": null,
            "height": null,
            "justify_content": null,
            "justify_items": null,
            "left": null,
            "margin": null,
            "max_height": null,
            "max_width": null,
            "min_height": null,
            "min_width": null,
            "object_fit": null,
            "object_position": null,
            "order": null,
            "overflow": null,
            "overflow_x": null,
            "overflow_y": null,
            "padding": null,
            "right": null,
            "top": null,
            "visibility": null,
            "width": null
          }
        },
        "d943586f33eb4122b0bbd33273a6874f": {
          "model_module": "@jupyter-widgets/controls",
          "model_name": "DescriptionStyleModel",
          "model_module_version": "1.5.0",
          "state": {
            "_model_module": "@jupyter-widgets/controls",
            "_model_module_version": "1.5.0",
            "_model_name": "DescriptionStyleModel",
            "_view_count": null,
            "_view_module": "@jupyter-widgets/base",
            "_view_module_version": "1.2.0",
            "_view_name": "StyleView",
            "description_width": ""
          }
        },
        "9cb5277269ef461b8a8dcaa244de8c4f": {
          "model_module": "@jupyter-widgets/base",
          "model_name": "LayoutModel",
          "model_module_version": "1.2.0",
          "state": {
            "_model_module": "@jupyter-widgets/base",
            "_model_module_version": "1.2.0",
            "_model_name": "LayoutModel",
            "_view_count": null,
            "_view_module": "@jupyter-widgets/base",
            "_view_module_version": "1.2.0",
            "_view_name": "LayoutView",
            "align_content": null,
            "align_items": null,
            "align_self": null,
            "border": null,
            "bottom": null,
            "display": null,
            "flex": null,
            "flex_flow": null,
            "grid_area": null,
            "grid_auto_columns": null,
            "grid_auto_flow": null,
            "grid_auto_rows": null,
            "grid_column": null,
            "grid_gap": null,
            "grid_row": null,
            "grid_template_areas": null,
            "grid_template_columns": null,
            "grid_template_rows": null,
            "height": null,
            "justify_content": null,
            "justify_items": null,
            "left": null,
            "margin": null,
            "max_height": null,
            "max_width": null,
            "min_height": null,
            "min_width": null,
            "object_fit": null,
            "object_position": null,
            "order": null,
            "overflow": null,
            "overflow_x": null,
            "overflow_y": null,
            "padding": null,
            "right": null,
            "top": null,
            "visibility": null,
            "width": null
          }
        },
        "e0b53ad7a7e54ef590b20c889181076b": {
          "model_module": "@jupyter-widgets/controls",
          "model_name": "ProgressStyleModel",
          "model_module_version": "1.5.0",
          "state": {
            "_model_module": "@jupyter-widgets/controls",
            "_model_module_version": "1.5.0",
            "_model_name": "ProgressStyleModel",
            "_view_count": null,
            "_view_module": "@jupyter-widgets/base",
            "_view_module_version": "1.2.0",
            "_view_name": "StyleView",
            "bar_color": null,
            "description_width": ""
          }
        },
        "26005b7511f146629101f131f46d6eb0": {
          "model_module": "@jupyter-widgets/base",
          "model_name": "LayoutModel",
          "model_module_version": "1.2.0",
          "state": {
            "_model_module": "@jupyter-widgets/base",
            "_model_module_version": "1.2.0",
            "_model_name": "LayoutModel",
            "_view_count": null,
            "_view_module": "@jupyter-widgets/base",
            "_view_module_version": "1.2.0",
            "_view_name": "LayoutView",
            "align_content": null,
            "align_items": null,
            "align_self": null,
            "border": null,
            "bottom": null,
            "display": null,
            "flex": null,
            "flex_flow": null,
            "grid_area": null,
            "grid_auto_columns": null,
            "grid_auto_flow": null,
            "grid_auto_rows": null,
            "grid_column": null,
            "grid_gap": null,
            "grid_row": null,
            "grid_template_areas": null,
            "grid_template_columns": null,
            "grid_template_rows": null,
            "height": null,
            "justify_content": null,
            "justify_items": null,
            "left": null,
            "margin": null,
            "max_height": null,
            "max_width": null,
            "min_height": null,
            "min_width": null,
            "object_fit": null,
            "object_position": null,
            "order": null,
            "overflow": null,
            "overflow_x": null,
            "overflow_y": null,
            "padding": null,
            "right": null,
            "top": null,
            "visibility": null,
            "width": null
          }
        },
        "6afe79c6fccc4674b1ca98041cc57038": {
          "model_module": "@jupyter-widgets/controls",
          "model_name": "DescriptionStyleModel",
          "model_module_version": "1.5.0",
          "state": {
            "_model_module": "@jupyter-widgets/controls",
            "_model_module_version": "1.5.0",
            "_model_name": "DescriptionStyleModel",
            "_view_count": null,
            "_view_module": "@jupyter-widgets/base",
            "_view_module_version": "1.2.0",
            "_view_name": "StyleView",
            "description_width": ""
          }
        }
      }
    }
  },
  "cells": [
    {
      "cell_type": "code",
      "source": [
        "# import libraries\n",
        "import torch\n",
        "import numpy as np\n",
        "import torch.nn as nn"
      ],
      "metadata": {
        "id": "f50pmX2kzK2J"
      },
      "execution_count": 1,
      "outputs": []
    },
    {
      "cell_type": "code",
      "source": [
        "from torchvision import datasets\n",
        "import torchvision.transforms as transforms\n",
        "\n",
        "# how many samples per batch to load\n",
        "batch_size = 512\n",
        "\n",
        "# convert data to torch.FloatTensor\n",
        "transform = transforms.ToTensor()\n",
        "\n",
        "#transform=transforms.Compose([transforms.ToTensor(),\n",
        "#                              transforms.Normalize((0.5, 0.5, 0.5), (0.5, 0.5, 0.5)),\n",
        "#                             ])\n",
        "\n",
        "# choose the training and test datasets\n",
        "train_data = datasets.MNIST(root='data', train=True,\n",
        "                                   download=True, transform=transform)\n",
        "test_data = datasets.MNIST(root='data', train=False,\n",
        "                                  download=True, transform=transform)\n",
        "\n",
        "# prepare data loaders\n",
        "train_loader = torch.utils.data.DataLoader(train_data, batch_size=batch_size)\n",
        "test_loader = torch.utils.data.DataLoader(test_data, batch_size=batch_size)\n",
        "\n",
        "criterion = nn.CrossEntropyLoss()"
      ],
      "metadata": {
        "id": "9Wel6AWnzTbD",
        "colab": {
          "base_uri": "https://localhost:8080/",
          "height": 432,
          "referenced_widgets": [
            "d43585a55ab14a639be678edfd3248d1",
            "4c8dd6b4248c4cca95ffd73e68e25b09",
            "daa636dff4fe4cf2923d972255e0ea7d",
            "5ae40de65524481cb1ec3cd30e548332",
            "3a87896be0bc4ba19d704c26ca23f461",
            "8284d3d2540e427384082620b0721267",
            "2a3a01b47a7b46fd80d119ab876ffd75",
            "9cba225880124a48a5bfc18daa9416e4",
            "0a072f8a8cbe4e579245b7de038ac373",
            "fa6ad861442249f5b6df8f1251464e84",
            "c9ab3774716b4f579e1417405aa05add",
            "fcbf4e4a4f584a799aab48b2f7db63aa",
            "0210500c014146d6ba5021b66578840a",
            "b2d6189e515c4ed9b116fd993137b517",
            "98bd4ee7e1884a93aedb7ddd2d057a86",
            "40b9bd52877e40009d8b9837876fe162",
            "b852cbc358ac4d3595e00be23d7ddf45",
            "26df2c17c7734fc0bc64abb63626a83f",
            "946575182996473ca76324967b186434",
            "c7f95aa2512b4e12963288c5cd2fa34c",
            "49eabe56fa56427988eb78d3c37737de",
            "1dc34b5b0a664de9807065ea8668ae43",
            "2790a5a0d48443abba6874074abe7342",
            "d8d7603f4da6465e943f1671cef75584",
            "53668299367641f9b5a3ee71cb2d2248",
            "860e745e75fe4f628f7f173d0f8276ef",
            "512ce9c6dc0346509c7d2ebf6f80ebf4",
            "461418f857624acd85e27133d16990ea",
            "fbf334b5cdee4a62a3e63503922ec6cd",
            "054379926f9448a58c0686abf322f539",
            "6640944034a041798cc1b585b49485a2",
            "69cbf4a57ccd49929d74bc30c8a4afbd",
            "3d4eac4b67804bd19129b10012e72a7b",
            "5576bc48b4c5423e80f28de553402e76",
            "d3b43791fc2c4253ba627772e95d3c74",
            "6122dbe936764405af88aec4c3f786bf",
            "b41e8b56068a4f3e99731a9cc3e32730",
            "5e254646f0f346c08af9400add026c49",
            "66cc8bd4b74640a9b90ae6e6bc85074e",
            "d943586f33eb4122b0bbd33273a6874f",
            "9cb5277269ef461b8a8dcaa244de8c4f",
            "e0b53ad7a7e54ef590b20c889181076b",
            "26005b7511f146629101f131f46d6eb0",
            "6afe79c6fccc4674b1ca98041cc57038"
          ]
        },
        "outputId": "5ef8df21-4f3a-4caf-eafc-ddc62c43e0a5"
      },
      "execution_count": 2,
      "outputs": [
        {
          "output_type": "stream",
          "name": "stdout",
          "text": [
            "Downloading http://yann.lecun.com/exdb/mnist/train-images-idx3-ubyte.gz\n",
            "Downloading http://yann.lecun.com/exdb/mnist/train-images-idx3-ubyte.gz to data/MNIST/raw/train-images-idx3-ubyte.gz\n"
          ]
        },
        {
          "output_type": "display_data",
          "data": {
            "text/plain": [
              "  0%|          | 0/9912422 [00:00<?, ?it/s]"
            ],
            "application/vnd.jupyter.widget-view+json": {
              "version_major": 2,
              "version_minor": 0,
              "model_id": "d43585a55ab14a639be678edfd3248d1"
            }
          },
          "metadata": {}
        },
        {
          "output_type": "stream",
          "name": "stdout",
          "text": [
            "Extracting data/MNIST/raw/train-images-idx3-ubyte.gz to data/MNIST/raw\n",
            "\n",
            "Downloading http://yann.lecun.com/exdb/mnist/train-labels-idx1-ubyte.gz\n",
            "Downloading http://yann.lecun.com/exdb/mnist/train-labels-idx1-ubyte.gz to data/MNIST/raw/train-labels-idx1-ubyte.gz\n"
          ]
        },
        {
          "output_type": "display_data",
          "data": {
            "text/plain": [
              "  0%|          | 0/28881 [00:00<?, ?it/s]"
            ],
            "application/vnd.jupyter.widget-view+json": {
              "version_major": 2,
              "version_minor": 0,
              "model_id": "fcbf4e4a4f584a799aab48b2f7db63aa"
            }
          },
          "metadata": {}
        },
        {
          "output_type": "stream",
          "name": "stdout",
          "text": [
            "Extracting data/MNIST/raw/train-labels-idx1-ubyte.gz to data/MNIST/raw\n",
            "\n",
            "Downloading http://yann.lecun.com/exdb/mnist/t10k-images-idx3-ubyte.gz\n",
            "Downloading http://yann.lecun.com/exdb/mnist/t10k-images-idx3-ubyte.gz to data/MNIST/raw/t10k-images-idx3-ubyte.gz\n"
          ]
        },
        {
          "output_type": "display_data",
          "data": {
            "text/plain": [
              "  0%|          | 0/1648877 [00:00<?, ?it/s]"
            ],
            "application/vnd.jupyter.widget-view+json": {
              "version_major": 2,
              "version_minor": 0,
              "model_id": "2790a5a0d48443abba6874074abe7342"
            }
          },
          "metadata": {}
        },
        {
          "output_type": "stream",
          "name": "stdout",
          "text": [
            "Extracting data/MNIST/raw/t10k-images-idx3-ubyte.gz to data/MNIST/raw\n",
            "\n",
            "Downloading http://yann.lecun.com/exdb/mnist/t10k-labels-idx1-ubyte.gz\n",
            "Downloading http://yann.lecun.com/exdb/mnist/t10k-labels-idx1-ubyte.gz to data/MNIST/raw/t10k-labels-idx1-ubyte.gz\n"
          ]
        },
        {
          "output_type": "display_data",
          "data": {
            "text/plain": [
              "  0%|          | 0/4542 [00:00<?, ?it/s]"
            ],
            "application/vnd.jupyter.widget-view+json": {
              "version_major": 2,
              "version_minor": 0,
              "model_id": "5576bc48b4c5423e80f28de553402e76"
            }
          },
          "metadata": {}
        },
        {
          "output_type": "stream",
          "name": "stdout",
          "text": [
            "Extracting data/MNIST/raw/t10k-labels-idx1-ubyte.gz to data/MNIST/raw\n",
            "\n"
          ]
        }
      ]
    },
    {
      "cell_type": "code",
      "source": [
        "import torch.nn as nn\n",
        "import torch.nn.functional as F\n",
        "\n",
        "## Define the NN architecture\n",
        "class MLP_ActivationOnly(nn.Module):\n",
        "    def __init__(self):\n",
        "        super(MLP_ActivationOnly, self).__init__()\n",
        "        self.fc1 = nn.Linear( 28*28 , 10 ) \n",
        "        # linear layer (n_hidden -> hidden_2)\n",
        "\n",
        "        # linear layer (n_hidden -> ?)\n",
        "        # self.fc3 = nn.Linear(,)\n",
        "\n",
        "    def forward(self, x):\n",
        "        # flatten image input\n",
        "        x = x.view(-1, 28*28) \n",
        "        # # add hidden layer, with relu activation function\n",
        "        # x = F.relu(self.fc1(x))\n",
        "        x = self.fc1(x)\n",
        "        return x\n",
        "\n",
        "# ADDED Code for RElu activation layer\n",
        "model_mlp_ActOnly = MLP_ActivationOnly()\n",
        "print(model_mlp_ActOnly)\n",
        "for parameter in model_mlp_ActOnly.parameters():\n",
        "    print(parameter.shape)"
      ],
      "metadata": {
        "id": "MedDxYZ30H0q",
        "colab": {
          "base_uri": "https://localhost:8080/"
        },
        "outputId": "144e3efa-5948-4016-9993-c0c259c05480"
      },
      "execution_count": 3,
      "outputs": [
        {
          "output_type": "stream",
          "name": "stdout",
          "text": [
            "MLP_ActivationOnly(\n",
            "  (fc1): Linear(in_features=784, out_features=10, bias=True)\n",
            ")\n",
            "torch.Size([10, 784])\n",
            "torch.Size([10])\n"
          ]
        }
      ]
    },
    {
      "cell_type": "code",
      "source": [
        "# training code\n",
        "def train(model, optimizer, epochs=10):\n",
        "    model.train() # prep model for training\n",
        "\n",
        "    for epoch in range(n_epochs):\n",
        "        # monitor training loss\n",
        "        train_loss = 0.0\n",
        "        \n",
        "        ###################\n",
        "        # train the model #\n",
        "        ###################\n",
        "        for data, target in train_loader:\n",
        "            data = data\n",
        "            target = target\n",
        "            # clear the gradients of all optimized variables\n",
        "            optimizer.zero_grad()\n",
        "            # forward pass: compute predicted outputs by passing inputs to the model\n",
        "            output = model(data)\n",
        "            #print(output, data.shape)\n",
        "            # calculate the loss\n",
        "            loss = criterion(output, target)\n",
        "            # backward pass: compute gradient of the loss with respect to model parameters\n",
        "            loss.backward()\n",
        "            # perform a single optimization step (parameter update)\n",
        "            optimizer.step()\n",
        "            # update running training loss\n",
        "            train_loss += loss.item()*data.size(0)\n",
        "            \n",
        "        # print training statistics \n",
        "        # calculate average loss over an epoch\n",
        "        train_loss = train_loss/len(train_loader.dataset)\n",
        "\n",
        "        print('Epoch: {} \\tTraining Loss: {:.6f}'.format(\n",
        "            epoch+1, \n",
        "            train_loss\n",
        "            ))"
      ],
      "metadata": {
        "id": "36TQHluapT5y"
      },
      "execution_count": 4,
      "outputs": []
    },
    {
      "cell_type": "code",
      "source": [
        "\n",
        "\n",
        "# initialize lists to monitor test loss and accuracy\n",
        "def test(model):\n",
        "    test_loss = 0.0\n",
        "    class_correct = list(0. for i in range(10))\n",
        "    class_total = list(0. for i in range(10))\n",
        "\n",
        "    model.eval() # prep model for *evaluation*\n",
        "\n",
        "    for data, target in test_loader:\n",
        "        data = data\n",
        "        target = target\n",
        "        # forward pass: compute predicted outputs by passing inputs to the model\n",
        "        output = model(data)\n",
        "        # calculate the loss\n",
        "        loss = criterion(output, target)\n",
        "        # update test loss \n",
        "        test_loss += loss.item()*data.size(0)\n",
        "        # convert output probabilities to predicted class\n",
        "        _, pred = torch.max(output, 1)\n",
        "        # compare predictions to true label\n",
        "        correct = np.squeeze(pred.eq(target.data.view_as(pred)))\n",
        "        # calculate test accuracy for each object class\n",
        "        for i in range(data.shape[0]):\n",
        "            label = target.data[i]\n",
        "            class_correct[label] += correct[i].item()\n",
        "            class_total[label] += 1\n",
        "\n",
        "    # calculate and print avg test loss\n",
        "    test_loss = test_loss/len(test_loader.dataset)\n",
        "    print('Test Loss: {:.6f}\\n'.format(test_loss))\n",
        "\n",
        "    for i in range(10):\n",
        "        if class_total[i] > 0:\n",
        "            print('Test Accuracy of %5s: %2d%% (%2d/%2d)' % (\n",
        "                str(i), 100 * class_correct[i] / class_total[i],\n",
        "                np.sum(class_correct[i]), np.sum(class_total[i])))\n",
        "        else:\n",
        "            print('Test Accuracy of %5s: N/A (no training examples)' % (classes[i]))\n",
        "\n",
        "    print('\\nTest Accuracy (Overall): %2d%% (%2d/%2d)' % (\n",
        "        100. * np.sum(class_correct) / np.sum(class_total),\n",
        "        np.sum(class_correct), np.sum(class_total)))\n",
        "\n"
      ],
      "metadata": {
        "id": "7ejwCULtpW4L"
      },
      "execution_count": 5,
      "outputs": []
    },
    {
      "cell_type": "code",
      "source": [
        "# number of epochs to train the model\n",
        "n_epochs = 10  # suggest training between 20-50 epochs\n",
        "# specify optimizer\n",
        "#model = Net()\n",
        "optimizer = torch.optim.Adam(model_mlp_ActOnly.parameters(), lr=0.05)\n",
        "train(model_mlp_ActOnly, optimizer)\n",
        "test(model_mlp_ActOnly)"
      ],
      "metadata": {
        "id": "XMP2_8crwqLz",
        "colab": {
          "base_uri": "https://localhost:8080/"
        },
        "outputId": "2d10259c-9748-4276-a82c-754b46d093a4"
      },
      "execution_count": 6,
      "outputs": [
        {
          "output_type": "stream",
          "name": "stdout",
          "text": [
            "Epoch: 1 \tTraining Loss: 0.442211\n",
            "Epoch: 2 \tTraining Loss: 0.340214\n",
            "Epoch: 3 \tTraining Loss: 0.334975\n",
            "Epoch: 4 \tTraining Loss: 0.333679\n",
            "Epoch: 5 \tTraining Loss: 0.334153\n",
            "Epoch: 6 \tTraining Loss: 0.336363\n",
            "Epoch: 7 \tTraining Loss: 0.338200\n",
            "Epoch: 8 \tTraining Loss: 0.338108\n",
            "Epoch: 9 \tTraining Loss: 0.336610\n",
            "Epoch: 10 \tTraining Loss: 0.334968\n",
            "Test Loss: 0.387092\n",
            "\n",
            "Test Accuracy of     0: 98% (968/980)\n",
            "Test Accuracy of     1: 98% (1117/1135)\n",
            "Test Accuracy of     2: 86% (894/1032)\n",
            "Test Accuracy of     3: 85% (860/1010)\n",
            "Test Accuracy of     4: 90% (885/982)\n",
            "Test Accuracy of     5: 86% (768/892)\n",
            "Test Accuracy of     6: 94% (902/958)\n",
            "Test Accuracy of     7: 89% (915/1028)\n",
            "Test Accuracy of     8: 88% (859/974)\n",
            "Test Accuracy of     9: 93% (940/1009)\n",
            "\n",
            "Test Accuracy (Overall): 91% (9108/10000)\n"
          ]
        }
      ]
    },
    {
      "cell_type": "code",
      "source": [
        "import cv2\n",
        "import numpy as np\n",
        "import matplotlib.pyplot as plt\n",
        "img = cv2.imread('/content/drive/MyDrive/handwrittenDigitNN/4-2.jpg',cv2.IMREAD_GRAYSCALE)\n",
        "res = cv2.resize(img, dsize=(28,28), interpolation=cv2.INTER_NEAREST)\n",
        "plt.imshow(img,cmap='gray')\n",
        "res.shape"
      ],
      "metadata": {
        "id": "uJ11Ub9Y9nIM",
        "colab": {
          "base_uri": "https://localhost:8080/",
          "height": 287
        },
        "outputId": "63b27e78-80ef-44ff-fe40-3e0cb00fc522"
      },
      "execution_count": 7,
      "outputs": [
        {
          "output_type": "execute_result",
          "data": {
            "text/plain": [
              "(28, 28)"
            ]
          },
          "metadata": {},
          "execution_count": 7
        },
        {
          "output_type": "display_data",
          "data": {
            "text/plain": [
              "<Figure size 432x288 with 1 Axes>"
            ],
            "image/png": "[encoded data removed]"
          },
          "metadata": {
            "needs_background": "light"
          }
        }
      ]
    },
    {
      "cell_type": "code",
      "source": [
        "plt.imshow(res,cmap='gray')"
      ],
      "metadata": {
        "id": "NdZ44-0p-xkU",
        "colab": {
          "base_uri": "https://localhost:8080/",
          "height": 283
        },
        "outputId": "f6f027a7-c46b-4912-e805-f925bd2bcfb9"
      },
      "execution_count": 8,
      "outputs": [
        {
          "output_type": "execute_result",
          "data": {
            "text/plain": [
              "<matplotlib.image.AxesImage at 0x7f928b5ad350>"
            ]
          },
          "metadata": {},
          "execution_count": 8
        },
        {
          "output_type": "display_data",
          "data": {
            "text/plain": [
              "<Figure size 432x288 with 1 Axes>"
            ],
            "image/png": "[encoded data removed]"
          },
          "metadata": {
            "needs_background": "light"
          }
        }
      ]
    },
    {
      "cell_type": "code",
      "source": [
        "pred2 = model_mlp_ActOnly(torch.Tensor(res).view(1,1,28,28))[0]\n",
        "print(torch.argmax(pred2))"
      ],
      "metadata": {
        "colab": {
          "base_uri": "https://localhost:8080/"
        },
        "id": "CGfDZUXp-4cO",
        "outputId": "c719623c-3ad3-48e6-fbc1-4982c4c982fa"
      },
      "execution_count": 9,
      "outputs": [
        {
          "output_type": "stream",
          "name": "stdout",
          "text": [
            "tensor(9)\n"
          ]
        }
      ]
    },
    {
      "cell_type": "code",
      "source": [
        "img = cv2.imread('/content/drive/MyDrive/handwrittenDigitNN/4.jpg',cv2.IMREAD_GRAYSCALE)\n",
        "res = cv2.resize(img, dsize=(28,28), interpolation=cv2.INTER_NEAREST)\n",
        "plt.imshow(img,cmap='gray')\n",
        "res.shape\n",
        "\n",
        "pred2 = model_mlp_ActOnly(torch.Tensor(res).view(1,1,28,28))[0]\n",
        "print(pred2)\n",
        "print(torch.argmax(pred2))"
      ],
      "metadata": {
        "colab": {
          "base_uri": "https://localhost:8080/",
          "height": 341
        },
        "id": "HSPxmUbrGbNe",
        "outputId": "e2dc95ad-2de6-4bef-9347-bc55dfdee1d3"
      },
      "execution_count": 10,
      "outputs": [
        {
          "output_type": "stream",
          "name": "stdout",
          "text": [
            "tensor([-1773.5217, -1797.5797,  -641.5867,   255.2080,  1372.4885,  -824.3648,\n",
            "        -1475.7354,  -965.2303,   843.0004,  1238.3926],\n",
            "       grad_fn=<SelectBackward0>)\n",
            "tensor(4)\n"
          ]
        },
        {
          "output_type": "display_data",
          "data": {
            "text/plain": [
              "<Figure size 432x288 with 1 Axes>"
            ],
            "image/png": "[encoded data removed]"
          },
          "metadata": {
            "needs_background": "light"
          }
        }
      ]
    },
    {
      "cell_type": "code",
      "source": [
        "print(torch.Tensor(res).view(1,1,28,28))"
      ],
      "metadata": {
        "id": "QZmF-krgQXus",
        "colab": {
          "base_uri": "https://localhost:8080/"
        },
        "outputId": "475e3386-e4b3-4518-9747-97ff26571a6c"
      },
      "execution_count": 11,
      "outputs": [
        {
          "output_type": "stream",
          "name": "stdout",
          "text": [
            "tensor([[[[  0.,   0.,   0.,   0.,   0.,   0.,   0.,   0.,   0.,   0.,   0.,\n",
            "             0.,   0.,   0.,   0.,   0.,   0.,   0.,   0.,   0.,   0.,   0.,\n",
            "             0.,   0.,   0.,   0.,   0.,   0.],\n",
            "          [  0.,   0.,   0.,   0.,   0.,   0.,   0.,   0.,   0.,   0.,   0.,\n",
            "             0.,   0.,   0.,   0.,   0.,   0.,   0.,   0.,   0.,   0.,   0.,\n",
            "             0.,   0.,   0.,   0.,   0.,   0.],\n",
            "          [  0.,   0.,   0.,   0.,   0.,   0.,   0.,   0.,   0.,   0.,   0.,\n",
            "             0.,   0.,   0.,   0.,   0.,   0.,   0.,   0.,   0.,   0.,   0.,\n",
            "             0.,   0.,   0.,   0.,   0.,   0.],\n",
            "          [  0.,   0.,   0.,   0.,   0.,   0.,   0.,   0.,   0.,   0.,   0.,\n",
            "             0.,   0.,   0.,   0.,   0.,   0.,   0.,   0.,   0.,   0.,   0.,\n",
            "             0.,   0.,   0.,   0.,   0.,   0.],\n",
            "          [  0.,   0.,   0.,   0.,   0.,   0.,   0.,   0.,   0.,   0.,   0.,\n",
            "             0.,   0.,   0.,   0.,   0.,   0.,   0.,   0.,   0.,   0.,   0.,\n",
            "             0.,   0.,   0.,   0.,   0.,   0.],\n",
            "          [  0.,   0.,   0.,   0.,   0.,   0.,   0.,   0.,   0.,   0.,   0.,\n",
            "             0.,   0.,   0.,   0.,   0.,   0.,   0.,   0.,   0.,   0.,   0.,\n",
            "             0.,   0.,   0.,   0.,   0.,   0.],\n",
            "          [  0.,   0.,   0.,   0.,   0.,   0.,   0.,   0.,   0.,   1.,   3.,\n",
            "             0.,   0.,   0.,   0.,   0.,   0.,   0.,   2.,  55.,   4.,   0.,\n",
            "             0.,   0.,   0.,   0.,   0.,   0.],\n",
            "          [  0.,   0.,   0.,   0.,   0.,   0.,   0.,   0.,   0.,  45., 171.,\n",
            "             5.,   0.,   0.,   0.,   0.,   0.,   0., 121., 177.,   0.,   0.,\n",
            "             0.,   0.,   0.,   0.,   0.,   0.],\n",
            "          [  0.,   0.,   0.,   0.,   0.,   0.,   0.,   0.,   0.,  64., 233.,\n",
            "             0.,   0.,   0.,   0.,   0.,   0.,   0., 210., 194.,   0.,   0.,\n",
            "             0.,   0.,   0.,   0.,   0.,   0.],\n",
            "          [  0.,   0.,   0.,   0.,   0.,   0.,   0.,   0.,   0.,  97., 217.,\n",
            "             0.,   0.,   0.,   0.,   0.,   0.,   0., 181., 216.,   1.,   0.,\n",
            "             0.,   0.,   0.,   0.,   0.,   0.],\n",
            "          [  0.,   0.,   0.,   0.,   0.,   0.,   0.,   0.,   0., 100., 205.,\n",
            "             0.,   0.,   0.,   0.,   0.,   0.,   0., 186., 208.,   1.,   0.,\n",
            "             0.,   0.,   0.,   0.,   0.,   0.],\n",
            "          [  0.,   0.,   0.,   0.,   0.,   0.,   0.,   0.,   2.,  90., 206.,\n",
            "             0.,   0.,   0.,   0.,   0.,   0.,  28., 224., 197.,   3.,   0.,\n",
            "             0.,   0.,   0.,   0.,   0.,   0.],\n",
            "          [  0.,   0.,   0.,   0.,   0.,   0.,   0.,   0.,   0., 112., 218.,\n",
            "             0.,   0.,   0.,   0.,   0.,   0.,  36., 224., 200.,   0.,   0.,\n",
            "             0.,   0.,   0.,   0.,   0.,   0.],\n",
            "          [  0.,   0.,   0.,   0.,   0.,   0.,   0.,   0.,   0.,   0., 209.,\n",
            "           155., 171., 111., 119.,  90., 103., 167., 234., 175.,   0.,   0.,\n",
            "             0.,   0.,   0.,   0.,   0.,   0.],\n",
            "          [  0.,   0.,   0.,   0.,   0.,   0.,   0.,   0.,   0.,   0.,  96.,\n",
            "           219., 244., 238., 240., 238., 233., 236., 244., 153.,   0.,   0.,\n",
            "             0.,   0.,   0.,   0.,   0.,   0.],\n",
            "          [  0.,   0.,   0.,   0.,   0.,   0.,   0.,   0.,   0.,   0.,   0.,\n",
            "             1., 131., 151., 156., 160., 176.,  98., 223., 121.,   2.,   0.,\n",
            "             0.,   0.,   0.,   0.,   0.,   0.],\n",
            "          [  0.,   0.,   0.,   0.,   0.,   0.,   0.,   0.,   0.,   0.,   0.,\n",
            "             0.,   0.,   0.,   0.,   0.,   1.,  33., 221.,  73.,   0.,   0.,\n",
            "             0.,   0.,   0.,   0.,   0.,   0.],\n",
            "          [  0.,   0.,   0.,   0.,   0.,   0.,   0.,   0.,   0.,   0.,   0.,\n",
            "             0.,   0.,   0.,   0.,   0.,   1.,  63., 220.,   0.,   0.,   0.,\n",
            "             0.,   0.,   0.,   0.,   0.,   0.],\n",
            "          [  0.,   0.,   0.,   0.,   0.,   0.,   0.,   0.,   0.,   0.,   0.,\n",
            "             0.,   0.,   0.,   0.,   0.,   0., 126., 220.,   0.,   0.,   0.,\n",
            "             0.,   0.,   0.,   0.,   0.,   0.],\n",
            "          [  0.,   0.,   0.,   0.,   0.,   0.,   0.,   0.,   0.,   0.,   0.,\n",
            "             0.,   0.,   0.,   0.,   0.,   2., 162., 229.,   0.,   0.,   0.,\n",
            "             0.,   0.,   0.,   0.,   0.,   0.],\n",
            "          [  0.,   0.,   0.,   0.,   0.,   0.,   0.,   0.,   0.,   0.,   0.,\n",
            "             0.,   0.,   0.,   0.,   0.,   1., 229., 234.,   2.,   0.,   0.,\n",
            "             0.,   0.,   0.,   0.,   0.,   0.],\n",
            "          [  0.,   0.,   0.,   0.,   0.,   0.,   0.,   0.,   0.,   0.,   0.,\n",
            "             0.,   0.,   0.,   0.,   0.,   0., 128., 215.,   1.,   0.,   0.,\n",
            "             0.,   0.,   0.,   0.,   0.,   0.],\n",
            "          [  0.,   0.,   0.,   0.,   0.,   0.,   0.,   0.,   0.,   0.,   0.,\n",
            "             0.,   0.,   0.,   0.,   0.,   0.,   4.,   3.,   0.,   0.,   0.,\n",
            "             0.,   0.,   0.,   0.,   0.,   0.],\n",
            "          [  0.,   0.,   0.,   0.,   0.,   0.,   0.,   0.,   0.,   0.,   0.,\n",
            "             0.,   0.,   0.,   0.,   0.,   0.,   0.,   0.,   0.,   0.,   0.,\n",
            "             0.,   0.,   0.,   0.,   0.,   0.],\n",
            "          [  0.,   0.,   0.,   0.,   0.,   0.,   0.,   0.,   0.,   0.,   0.,\n",
            "             0.,   0.,   0.,   0.,   0.,   0.,   0.,   0.,   0.,   0.,   0.,\n",
            "             0.,   0.,   0.,   0.,   0.,   0.],\n",
            "          [  0.,   0.,   0.,   0.,   0.,   0.,   0.,   0.,   0.,   0.,   0.,\n",
            "             0.,   0.,   0.,   0.,   0.,   0.,   0.,   0.,   0.,   0.,   0.,\n",
            "             0.,   0.,   0.,   0.,   0.,   0.],\n",
            "          [  0.,   0.,   0.,   0.,   0.,   0.,   0.,   0.,   0.,   0.,   0.,\n",
            "             0.,   0.,   0.,   0.,   0.,   0.,   0.,   0.,   0.,   0.,   0.,\n",
            "             0.,   0.,   0.,   0.,   0.,   0.],\n",
            "          [  0.,   0.,   0.,   0.,   0.,   0.,   0.,   0.,   0.,   0.,   0.,\n",
            "             0.,   0.,   0.,   0.,   0.,   0.,   0.,   0.,   0.,   0.,   0.,\n",
            "             0.,   0.,   0.,   0.,   0.,   0.]]]])\n"
          ]
        }
      ]
    },
    {
      "cell_type": "code",
      "source": [
        "print(model_mlp_ActOnly)"
      ],
      "metadata": {
        "colab": {
          "base_uri": "https://localhost:8080/"
        },
        "id": "qtn1ah2vC2KK",
        "outputId": "796dfb72-6b64-4118-be41-2358c69e57b7"
      },
      "execution_count": 12,
      "outputs": [
        {
          "output_type": "stream",
          "name": "stdout",
          "text": [
            "MLP_ActivationOnly(\n",
            "  (fc1): Linear(in_features=784, out_features=10, bias=True)\n",
            ")\n"
          ]
        }
      ]
    },
    {
      "cell_type": "code",
      "source": [
        "print(model_mlp_ActOnly.fc1.bias)"
      ],
      "metadata": {
        "colab": {
          "base_uri": "https://localhost:8080/"
        },
        "id": "OUBBkpLADaDB",
        "outputId": "484277c5-8f3b-4404-ba5c-2aabe04ed347"
      },
      "execution_count": 13,
      "outputs": [
        {
          "output_type": "stream",
          "name": "stdout",
          "text": [
            "Parameter containing:\n",
            "tensor([-1.5915,  1.4838,  0.5354, -0.8490,  0.4678,  3.0125, -0.6387,  1.7125,\n",
            "        -2.9060, -0.5169], requires_grad=True)\n"
          ]
        }
      ]
    },
    {
      "cell_type": "code",
      "source": [
        "print(model_mlp_ActOnly.fc1.weight)"
      ],
      "metadata": {
        "colab": {
          "base_uri": "https://localhost:8080/"
        },
        "id": "2dj49c9AC7sC",
        "outputId": "df18018a-3419-4a90-f4bf-957347041b37"
      },
      "execution_count": 14,
      "outputs": [
        {
          "output_type": "stream",
          "name": "stdout",
          "text": [
            "Parameter containing:\n",
            "tensor([[-0.0357,  0.0141,  0.0313,  ..., -0.0065,  0.0151,  0.0116],\n",
            "        [ 0.0099, -0.0289, -0.0187,  ..., -0.0287,  0.0047, -0.0089],\n",
            "        [-0.0226,  0.0036, -0.0069,  ..., -0.0042, -0.0026,  0.0276],\n",
            "        ...,\n",
            "        [ 0.0349,  0.0119,  0.0333,  ...,  0.0100, -0.0324,  0.0021],\n",
            "        [-0.0164,  0.0114, -0.0157,  ...,  0.0112, -0.0105, -0.0112],\n",
            "        [-0.0307,  0.0312,  0.0321,  ...,  0.0284,  0.0088, -0.0349]],\n",
            "       requires_grad=True)\n"
          ]
        }
      ]
    },
    {
      "cell_type": "code",
      "source": [
        "\n",
        "# Pytorch to ONNX\n",
        "onnx_filename = 'mnist.onnx'\n",
        "dummy_input = torch.Tensor(res).view(1,1,28,28)\n",
        "input_names = ['act']\n",
        "output_names = ['out']\n",
        "model_mlp_ActOnly.eval()\n",
        "torch.onnx.export(model_mlp_ActOnly, dummy_input, onnx_filename,\n",
        "                  input_names=input_names, output_names=output_names)"
      ],
      "metadata": {
        "id": "YwVEK9XCsZfF"
      },
      "execution_count": 16,
      "outputs": []
    },
    {
      "cell_type": "code",
      "source": [
        "!python --version\n",
        "\n"
      ],
      "metadata": {
        "colab": {
          "base_uri": "https://localhost:8080/"
        },
        "id": "haKDMldi91yk",
        "outputId": "e3eeff4c-9656-4e6e-969d-78be4a70de94"
      },
      "execution_count": 21,
      "outputs": [
        {
          "output_type": "stream",
          "name": "stdout",
          "text": [
            "Python 3.7.13\n"
          ]
        }
      ]
    },
    {
      "cell_type": "code",
      "source": [
        "!sudo apt install iverilog\n",
        "!pip3 install veriloggen numpy onnx\n",
        "!python3 /content/drive/MyDrive/setup.py install"
      ],
      "metadata": {
        "colab": {
          "base_uri": "https://localhost:8080/"
        },
        "id": "YdYU8y5yBhip",
        "outputId": "744cbef9-2e1b-44b0-9274-7166ab548244"
      },
      "execution_count": 22,
      "outputs": [
        {
          "output_type": "stream",
          "name": "stdout",
          "text": [
            "Reading package lists... Done\n",
            "Building dependency tree       \n",
            "Reading state information... Done\n",
            "The following packages were automatically installed and are no longer required:\n",
            "  libnvidia-common-460 nsight-compute-2020.2.0\n",
            "Use 'sudo apt autoremove' to remove them.\n",
            "Suggested packages:\n",
            "  gtkwave\n",
            "The following NEW packages will be installed:\n",
            "  iverilog\n",
            "0 upgraded, 1 newly installed, 0 to remove and 42 not upgraded.\n",
            "Need to get 1,811 kB of archives.\n",
            "After this operation, 6,206 kB of additional disk space will be used.\n",
            "Get:1 http://archive.ubuntu.com/ubuntu bionic/universe amd64 iverilog amd64 10.1-0.1build1 [1,811 kB]\n",
            "Fetched 1,811 kB in 1s (2,922 kB/s)\n",
            "debconf: unable to initialize frontend: Dialog\n",
            "debconf: (No usable dialog-like program is installed, so the dialog based frontend cannot be used. at /usr/share/perl5/Debconf/FrontEnd/Dialog.pm line 76, <> line 1.)\n",
            "debconf: falling back to frontend: Readline\n",
            "debconf: unable to initialize frontend: Readline\n",
            "debconf: (This frontend requires a controlling tty.)\n",
            "debconf: falling back to frontend: Teletype\n",
            "dpkg-preconfigure: unable to re-open stdin: \n",
            "Selecting previously unselected package iverilog.\n",
            "(Reading database ... 155203 files and directories currently installed.)\n",
            "Preparing to unpack .../iverilog_10.1-0.1build1_amd64.deb ...\n",
            "Unpacking iverilog (10.1-0.1build1) ...\n",
            "Setting up iverilog (10.1-0.1build1) ...\n",
            "Processing triggers for man-db (2.8.3-2ubuntu0.1) ...\n",
            "Collecting veriloggen\n",
            "  Downloading veriloggen-2.1.0.tar.gz (2.5 MB)\n",
            "\u001b[K     |████████████████████████████████| 2.5 MB 8.4 MB/s \n",
            "\u001b[?25hRequirement already satisfied: numpy in /usr/local/lib/python3.7/dist-packages (1.21.6)\n",
            "Collecting onnx\n",
            "  Downloading onnx-1.11.0-cp37-cp37m-manylinux_2_12_x86_64.manylinux2010_x86_64.whl (12.8 MB)\n",
            "\u001b[K     |████████████████████████████████| 12.8 MB 50.0 MB/s \n",
            "\u001b[?25hCollecting pyverilog>=1.3.0\n",
            "  Downloading pyverilog-1.3.0.tar.gz (136 kB)\n",
            "\u001b[K     |████████████████████████████████| 136 kB 72.3 MB/s \n",
            "\u001b[?25hRequirement already satisfied: Jinja2>=2.10 in /usr/local/lib/python3.7/dist-packages (from pyverilog>=1.3.0->veriloggen) (2.11.3)\n",
            "Collecting ply>=3.4\n",
            "  Downloading ply-3.11-py2.py3-none-any.whl (49 kB)\n",
            "\u001b[K     |████████████████████████████████| 49 kB 7.4 MB/s \n",
            "\u001b[?25hRequirement already satisfied: MarkupSafe>=0.23 in /usr/local/lib/python3.7/dist-packages (from Jinja2>=2.10->pyverilog>=1.3.0->veriloggen) (2.0.1)\n",
            "Requirement already satisfied: protobuf>=3.12.2 in /usr/local/lib/python3.7/dist-packages (from onnx) (3.17.3)\n",
            "Requirement already satisfied: typing-extensions>=3.6.2.1 in /usr/local/lib/python3.7/dist-packages (from onnx) (4.2.0)\n",
            "Requirement already satisfied: six>=1.9 in /usr/local/lib/python3.7/dist-packages (from protobuf>=3.12.2->onnx) (1.15.0)\n",
            "Building wheels for collected packages: veriloggen, pyverilog\n",
            "  Building wheel for veriloggen (setup.py) ... \u001b[?25l\u001b[?25hdone\n",
            "  Created wheel for veriloggen: filename=veriloggen-2.1.0-py3-none-any.whl size=222516 sha256=40a133fcf9ccf81f5c4d317b997fd32e1e5d14a5e23d3e01d892410e3434ec4d\n",
            "  Stored in directory: /root/.cache/pip/wheels/7c/44/bb/e1f1b05ee93892aafdac8a068387051105dbbf0a8fa0a3e899\n",
            "  Building wheel for pyverilog (setup.py) ... \u001b[?25l\u001b[?25hdone\n",
            "  Created wheel for pyverilog: filename=pyverilog-1.3.0-py3-none-any.whl size=118948 sha256=ad5254da0650c3bc021b39b61600d198198bb2bb6333f7a4d1f0d39a1cc5e244\n",
            "  Stored in directory: /root/.cache/pip/wheels/4e/4b/c4/20afdbfa7d0b4d0b51ab0525e632efd8896c67abfb601824b9\n",
            "Successfully built veriloggen pyverilog\n",
            "Installing collected packages: ply, pyverilog, veriloggen, onnx\n",
            "Successfully installed onnx-1.11.0 ply-3.11 pyverilog-1.3.0 veriloggen-2.1.0\n",
            "Traceback (most recent call last):\n",
            "  File \"/content/drive/MyDrive/setup.py\", line 12, in <module>\n",
            "    version=read('nngen/VERSION').splitlines()[0],\n",
            "  File \"/content/drive/MyDrive/setup.py\", line 8, in read\n",
            "    return open(os.path.join(os.path.dirname(__file__), filename)).read()\n",
            "FileNotFoundError: [Errno 2] No such file or directory: '/content/drive/MyDrive/nngen/VERSION'\n"
          ]
        }
      ]
    },
    {
      "cell_type": "code",
      "source": [
        "def float_bin(number, places = 23): \n",
        "  \n",
        "    # split() seperates whole number and decimal  \n",
        "    # part and stores it in two seperate variables \n",
        "    whole, dec = str(number).split(\".\") \n",
        "  \n",
        "    # Convert both whole number and decimal   \n",
        "    # part from string type to integer type \n",
        "    whole = int(whole) \n",
        "    dec = int (dec) \n",
        "  \n",
        "    # Convert the whole number part to it's \n",
        "    # respective binary form and remove the \n",
        "    # \"0b\" from it. \n",
        "    res = bin(whole).lstrip(\"0b\") + \".\"\n",
        "  \n",
        "    # Iterate the number of times, we want \n",
        "    # the number of decimal places to be \n",
        "    for x in range(places): \n",
        "  \n",
        "        # Multiply the decimal value by 2  \n",
        "        # and seperate the whole number part \n",
        "        # and decimal part \n",
        "        whole, dec = str((decimal_converter(dec)) * 2).split(\".\") \n",
        "  \n",
        "        # Convert the decimal part \n",
        "        # to integer again \n",
        "        dec = int(dec) \n",
        "  \n",
        "        # Keep adding the integer parts  \n",
        "        # receive to the result variable \n",
        "        res += whole \n",
        "  \n",
        "    return res \n",
        "  \n",
        "# Function converts the value passed as \n",
        "# parameter to it's decimal representation \n",
        "def decimal_converter(num):  \n",
        "    while num > 1: \n",
        "        num /= 10\n",
        "    return num \n",
        "\n",
        "\n",
        "print(float_bin(-2.7))\n"
      ],
      "metadata": {
        "colab": {
          "base_uri": "https://localhost:8080/"
        },
        "id": "_iG9PrXRJ0ic",
        "outputId": "9bdcad2b-ef66-497b-8814-81dc651d9251"
      },
      "execution_count": null,
      "outputs": [
        {
          "output_type": "stream",
          "name": "stdout",
          "text": [
            "-0b10.10110011001100110011001\n"
          ]
        }
      ]
    },
    {
      "cell_type": "code",
      "source": [
        "f = 21845;\n",
        "n=(int)(f*65536);\n",
        "print(n)\n",
        "print(bin(n))\n",
        "\n",
        "n =1\n",
        "nw =(float)(n/65536)\n",
        "print(nw)"
      ],
      "metadata": {
        "colab": {
          "base_uri": "https://localhost:8080/"
        },
        "id": "mwTWGV_ZVSZF",
        "outputId": "ced54e97-93bd-4468-a953-60fe9fd54031"
      },
      "execution_count": null,
      "outputs": [
        {
          "output_type": "stream",
          "name": "stdout",
          "text": [
            "1431633920\n",
            "0b1010101010101010000000000000000\n",
            "1.52587890625e-05\n"
          ]
        }
      ]
    },
    {
      "cell_type": "code",
      "source": [
        "\n",
        "def read(filename):\n",
        "    # return open(os.path.join(os.path.dirname(__file__), filename), encoding='utf8').read()\n",
        "    return open(os.path.join(os.path.dirname(__file__), filename)).read()\n",
        "\n",
        "\n",
        "print()"
      ],
      "metadata": {
        "id": "IvI7aajtPCP9"
      },
      "execution_count": null,
      "outputs": []
    }
  ]
}